{
 "cells": [
  {
   "cell_type": "code",
   "execution_count": 6,
   "id": "18fb1a26",
   "metadata": {},
   "outputs": [],
   "source": [
    "import os\n",
    "from configparser import ConfigParser\n",
    "from pyrfc import Connection,ABAPRuntimeError"
   ]
  },
  {
   "cell_type": "markdown",
   "id": "cbff99ac",
   "metadata": {},
   "source": [
    "# 1. Locad configuration"
   ]
  },
  {
   "cell_type": "code",
   "execution_count": 2,
   "id": "98954186",
   "metadata": {},
   "outputs": [],
   "source": [
    "configur = ConfigParser()"
   ]
  },
  {
   "cell_type": "code",
   "execution_count": 3,
   "id": "a4741052",
   "metadata": {},
   "outputs": [
    {
     "data": {
      "text/plain": [
       "['config.ini']"
      ]
     },
     "execution_count": 3,
     "metadata": {},
     "output_type": "execute_result"
    }
   ],
   "source": [
    "configur.read('config.ini')"
   ]
  },
  {
   "cell_type": "code",
   "execution_count": 7,
   "id": "1411876b",
   "metadata": {},
   "outputs": [],
   "source": [
    "ASHOST=configur.get('SAP','host')\n",
    "CLIENT=configur.get('SAP','client')\n",
    "SYSNR=configur.get('SAP','instance')\n",
    "USER=configur.get('SAP','username')\n",
    "PASSWD=configur.get('SAP','password')"
   ]
  },
  {
   "cell_type": "code",
   "execution_count": 8,
   "id": "65ee1d7a",
   "metadata": {},
   "outputs": [],
   "source": [
    "conn = Connection(\n",
    "    ashost=ASHOST, \n",
    "    sysnr=SYSNR, \n",
    "    client=CLIENT, \n",
    "    user=USER, \n",
    "    passwd=PASSWD,\n",
    "    lang=\"EN\"\n",
    "    )"
   ]
  },
  {
   "cell_type": "markdown",
   "id": "fa96ad64",
   "metadata": {},
   "source": [
    "# Read PO Invoices"
   ]
  },
  {
   "cell_type": "code",
   "execution_count": 12,
   "id": "afa02397",
   "metadata": {},
   "outputs": [],
   "source": [
    "def conver_results_to_object(result):\n",
    "    results = []\n",
    "    for row in result['DATA']:\n",
    "        d = row['WA'].split('|')\n",
    "        fields = result['FIELDS']\n",
    "        o = {}\n",
    "        for i,v in enumerate(d):\n",
    "            o[fields[i]['FIELDNAME']] = v\n",
    "        results.append(o)\n",
    "    return results"
   ]
  },
  {
   "cell_type": "code",
   "execution_count": 13,
   "id": "5e053f4a",
   "metadata": {},
   "outputs": [],
   "source": [
    "def get_po_invoices(conn,po):\n",
    "    po_results = []\n",
    "    kwargs = dict(\n",
    "                QUERY_TABLE = 'EKBE',\n",
    "                DELIMITER = '|',\n",
    "                NO_DATA = ' ',\n",
    "                FIELDS = [ \n",
    "                    {'FIELDNAME':'EBELN'} ,\n",
    "                    {'FIELDNAME':'EBELP'} ,\n",
    "                    {'FIELDNAME':'ZEKKN'} ,\n",
    "                    {'FIELDNAME':'VGABE'} ,\n",
    "                    {'FIELDNAME':'GJAHR'} ,\n",
    "                    {'FIELDNAME':'BELNR'} ,\n",
    "                    {'FIELDNAME':'BUZEI'} ,\n",
    "                        ],\n",
    "                ROWSKIPS = 0 ,\n",
    "                ROWCOUNT = 0,\n",
    "                OPTIONS = [\n",
    "                    \"MANDT = '001'\", \n",
    "                    \"EBELN = '\"+ po +\"'\",\n",
    "                    \"VGABE = '2'\"\n",
    "                    ]\n",
    "            )\n",
    "    try:\n",
    "        result = conn.call('RFC_READ_TABLE',**kwargs)\n",
    "        po_results = conver_results_to_object(result)\n",
    "    except ABAPRuntimeError as error:\n",
    "        print(error.message)\n",
    "    \n",
    "    return po_results"
   ]
  }
 ],
 "metadata": {
  "kernelspec": {
   "display_name": ".venv",
   "language": "python",
   "name": "python3"
  },
  "language_info": {
   "codemirror_mode": {
    "name": "ipython",
    "version": 3
   },
   "file_extension": ".py",
   "mimetype": "text/x-python",
   "name": "python",
   "nbconvert_exporter": "python",
   "pygments_lexer": "ipython3",
   "version": "3.13.5"
  }
 },
 "nbformat": 4,
 "nbformat_minor": 5
}
