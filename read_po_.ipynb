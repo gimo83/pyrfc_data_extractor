{
 "cells": [
  {
   "cell_type": "code",
   "execution_count": 236,
   "id": "18fb1a26",
   "metadata": {},
   "outputs": [],
   "source": [
    "import os\n",
    "from configparser import ConfigParser\n",
    "import pandas as pd"
   ]
  },
  {
   "cell_type": "markdown",
   "id": "5e4a2fac",
   "metadata": {
    "slideshow": {
     "slide_type": "notes"
    }
   },
   "source": [
    "# 1. Configure SAP NetWeaver SDK"
   ]
  },
  {
   "cell_type": "code",
   "execution_count": 237,
   "id": "853a0b64",
   "metadata": {},
   "outputs": [],
   "source": [
    "proj_dir = os.getcwd()"
   ]
  },
  {
   "cell_type": "code",
   "execution_count": 238,
   "id": "fad5cf5b",
   "metadata": {},
   "outputs": [],
   "source": [
    "os.environ['SAPNWRFC_HOME'] = proj_dir + '\\\\nwrfcsdk' "
   ]
  },
  {
   "cell_type": "code",
   "execution_count": 239,
   "id": "982b34ac",
   "metadata": {},
   "outputs": [],
   "source": [
    "from pyrfc import Connection, ABAPRuntimeError"
   ]
  },
  {
   "cell_type": "markdown",
   "id": "cbff99ac",
   "metadata": {},
   "source": [
    "# 2. Locad configuration"
   ]
  },
  {
   "cell_type": "code",
   "execution_count": 240,
   "id": "98954186",
   "metadata": {},
   "outputs": [],
   "source": [
    "configur = ConfigParser()"
   ]
  },
  {
   "cell_type": "code",
   "execution_count": 241,
   "id": "a4741052",
   "metadata": {},
   "outputs": [
    {
     "data": {
      "text/plain": [
       "['config.ini']"
      ]
     },
     "execution_count": 241,
     "metadata": {},
     "output_type": "execute_result"
    }
   ],
   "source": [
    "configur.read('config.ini')"
   ]
  },
  {
   "cell_type": "code",
   "execution_count": 242,
   "id": "1411876b",
   "metadata": {},
   "outputs": [],
   "source": [
    "ASHOST=configur.get('SAP','host')\n",
    "CLIENT=configur.get('SAP','client')\n",
    "SYSNR=configur.get('SAP','instance')\n",
    "USER=configur.get('SAP','username')\n",
    "PASSWD=configur.get('SAP','password')"
   ]
  },
  {
   "cell_type": "markdown",
   "id": "1521ec4b",
   "metadata": {},
   "source": [
    "# 3. Connect to SAP"
   ]
  },
  {
   "cell_type": "code",
   "execution_count": 243,
   "id": "65ee1d7a",
   "metadata": {},
   "outputs": [],
   "source": [
    "conn = Connection(\n",
    "    ashost=ASHOST, \n",
    "    sysnr=SYSNR, \n",
    "    client=CLIENT, \n",
    "    user=USER, \n",
    "    passwd=PASSWD,\n",
    "    lang=\"EN\"\n",
    "    )"
   ]
  },
  {
   "cell_type": "code",
   "execution_count": 244,
   "id": "afa02397",
   "metadata": {},
   "outputs": [],
   "source": [
    "def conver_results_to_object(result):\n",
    "    results = []\n",
    "    for row in result['DATA']:\n",
    "        \n",
    "            d = row['WA'].split('|')\n",
    "            fields = result['FIELDS']\n",
    "            o = {}\n",
    "            for i,v in enumerate(d):\n",
    "                o[fields[i]['FIELDNAME']] = v\n",
    "            results.append(o)\n",
    "    return results"
   ]
  },
  {
   "cell_type": "markdown",
   "id": "fa96ad64",
   "metadata": {},
   "source": [
    "# 4. Define Functions"
   ]
  },
  {
   "cell_type": "markdown",
   "id": "27729692",
   "metadata": {},
   "source": [
    "## 4.1 Get PO Invoices"
   ]
  },
  {
   "cell_type": "code",
   "execution_count": 245,
   "id": "5e053f4a",
   "metadata": {},
   "outputs": [],
   "source": [
    "def get_po_invoices(conn,po):\n",
    "    po_results = []\n",
    "    kwargs = dict(\n",
    "                QUERY_TABLE = 'EKBE',\n",
    "                DELIMITER = '|',\n",
    "                NO_DATA = '',\n",
    "                FIELDS = [ \n",
    "                    {'FIELDNAME':'EBELN'} ,\n",
    "                    {'FIELDNAME':'EBELP'} ,\n",
    "                    {'FIELDNAME':'ZEKKN'} ,\n",
    "                    {'FIELDNAME':'VGABE'} ,\n",
    "                    {'FIELDNAME':'GJAHR'} ,\n",
    "                    {'FIELDNAME':'BELNR'} ,\n",
    "                    {'FIELDNAME':'BUZEI'} ,\n",
    "                        ],\n",
    "                ROWSKIPS = 0 ,\n",
    "                ROWCOUNT = 500,\n",
    "                OPTIONS = [\n",
    "                    \"MANDT = '\"+ CLIENT +\"'\", \n",
    "                    \" AND EBELN = '\"+ po +\"'\",\n",
    "                    \" AND VGABE = '2'\"\n",
    "                    ]\n",
    "            )\n",
    "    try:\n",
    "        result = conn.call('RFC_READ_TABLE',**kwargs)\n",
    "        po_results = conver_results_to_object(result)\n",
    "    except ABAPRuntimeError as error:\n",
    "        print(error.message)\n",
    "    \n",
    "    return po_results"
   ]
  },
  {
   "cell_type": "markdown",
   "id": "71e74498",
   "metadata": {},
   "source": [
    "## 4.2 Get FI Document from PO Invoice"
   ]
  },
  {
   "cell_type": "code",
   "execution_count": 246,
   "id": "bde036d3",
   "metadata": {},
   "outputs": [],
   "source": [
    "def get_fi_doc(conn,ObjectKey):\n",
    "    po_results = []\n",
    "    kwargs = dict(\n",
    "                QUERY_TABLE = 'BKPF',\n",
    "                DELIMITER = '|',\n",
    "                NO_DATA = '',\n",
    "                FIELDS = [ \n",
    "                    {'FIELDNAME':'BUKRS'} ,\n",
    "                    {'FIELDNAME':'BELNR'} ,\n",
    "                    {'FIELDNAME':'GJAHR'} ,\n",
    "                    {'FIELDNAME':'BLART'} ,\n",
    "                    {'FIELDNAME':'AWTYP'} ,\n",
    "                    {'FIELDNAME':'AWKEY'} ,\n",
    "                        ],\n",
    "                ROWSKIPS = 0 ,\n",
    "                ROWCOUNT = 500,\n",
    "                OPTIONS = [\n",
    "                    \"MANDT = '\"+ CLIENT +\"'\", \n",
    "                    \" AND AWKEY = '\"+ ObjectKey +\"'\",\n",
    "                    ]\n",
    "            )\n",
    "    try:\n",
    "        result = conn.call('RFC_READ_TABLE',**kwargs)\n",
    "        po_results = conver_results_to_object(result)\n",
    "    except ABAPRuntimeError as error:\n",
    "        print(error.message)\n",
    "    \n",
    "    return po_results"
   ]
  },
  {
   "cell_type": "markdown",
   "id": "091ba92a",
   "metadata": {},
   "source": [
    "## 4.3 Get FI Document items"
   ]
  },
  {
   "cell_type": "code",
   "execution_count": 247,
   "id": "fa4e2d99",
   "metadata": {},
   "outputs": [],
   "source": [
    "def get_fi_doc_items(conn,BUKRS,BELNR,GJAHR):\n",
    "    results = []\n",
    "    kwargs = dict(\n",
    "                QUERY_TABLE = 'BSEG',\n",
    "                DELIMITER = '|',\n",
    "                NO_DATA = '',\n",
    "                FIELDS = [ \n",
    "                    {'FIELDNAME':'BUKRS'} ,\n",
    "                    {'FIELDNAME':'BELNR'} ,\n",
    "                    {'FIELDNAME':'GJAHR'} ,\n",
    "                    {'FIELDNAME':'BUZEI'} ,\n",
    "                    {'FIELDNAME':'AUGDT'} ,\n",
    "                    {'FIELDNAME':'AUGCP'} ,\n",
    "                    {'FIELDNAME':'AUGBL'} ,\n",
    "                    {'FIELDNAME':'BSCHL'} ,\n",
    "                        ],\n",
    "                ROWSKIPS = 0 ,\n",
    "                ROWCOUNT = 500,\n",
    "                OPTIONS = [\n",
    "                    \"MANDT = '\"+ CLIENT +\"'\", \n",
    "                    \" AND BUKRS = '\"+ BUKRS +\"'\",\n",
    "                    \" AND BELNR = '\"+ BELNR +\"'\",\n",
    "                    \" AND GJAHR = '\"+ GJAHR +\"'\",\n",
    "                    \" AND BSCHL = '31'\",\n",
    "                    ]\n",
    "            )\n",
    "    try:\n",
    "        result = conn.call('RFC_READ_TABLE',**kwargs)\n",
    "        results = conver_results_to_object(result)\n",
    "    except ABAPRuntimeError as error:\n",
    "        print(error.message)\n",
    "    \n",
    "    return results"
   ]
  },
  {
   "cell_type": "markdown",
   "id": "0399fdd0",
   "metadata": {},
   "source": [
    "# 5. Read PO Invoices"
   ]
  },
  {
   "cell_type": "code",
   "execution_count": 248,
   "id": "428eb29c",
   "metadata": {},
   "outputs": [],
   "source": [
    "#po_data = get_po_invoices(conn,'4500019671')"
   ]
  },
  {
   "cell_type": "code",
   "execution_count": 249,
   "id": "9d4f3a9e",
   "metadata": {},
   "outputs": [],
   "source": [
    "po_list = ['4500019671','4500019602','4500019670','3005000125','4500019559']"
   ]
  },
  {
   "cell_type": "code",
   "execution_count": 250,
   "id": "4edfd837",
   "metadata": {},
   "outputs": [],
   "source": [
    "po_data = []\n",
    "for po in po_list:\n",
    "    result = get_po_invoices(conn,po)\n",
    "    po_data += result"
   ]
  },
  {
   "cell_type": "code",
   "execution_count": 251,
   "id": "135cd552",
   "metadata": {},
   "outputs": [],
   "source": [
    "df_po_ri = pd.DataFrame(data=po_data)"
   ]
  },
  {
   "cell_type": "code",
   "execution_count": 252,
   "id": "d4b06954",
   "metadata": {},
   "outputs": [],
   "source": [
    "df_po_ri['AWKEY'] = df_po_ri['BELNR'] + df_po_ri['GJAHR']"
   ]
  },
  {
   "cell_type": "code",
   "execution_count": 253,
   "id": "f47af3d5",
   "metadata": {},
   "outputs": [],
   "source": [
    "AWKEY_docs = list(df_po_ri['AWKEY'].drop_duplicates())"
   ]
  },
  {
   "cell_type": "markdown",
   "id": "0c4c484d",
   "metadata": {},
   "source": [
    "# 6. Retriave FI documents "
   ]
  },
  {
   "cell_type": "code",
   "execution_count": 254,
   "id": "0f394353",
   "metadata": {},
   "outputs": [],
   "source": [
    "fi_doc_hd = []\n",
    "for objKey in AWKEY_docs:\n",
    "    result = get_fi_doc(conn, objKey)\n",
    "    fi_doc_hd += result"
   ]
  },
  {
   "cell_type": "code",
   "execution_count": 255,
   "id": "21a1f9f7",
   "metadata": {},
   "outputs": [],
   "source": [
    "df_fi_doc_hd = pd.DataFrame(data=fi_doc_hd)"
   ]
  },
  {
   "cell_type": "code",
   "execution_count": 256,
   "id": "08f41527",
   "metadata": {},
   "outputs": [],
   "source": [
    "fi_doc_it = []\n",
    "for fi_doc in fi_doc_hd:\n",
    "    result = get_fi_doc_items(conn, fi_doc['BUKRS'],fi_doc['BELNR'],fi_doc['GJAHR'])\n",
    "    fi_doc_it += result"
   ]
  },
  {
   "cell_type": "code",
   "execution_count": 257,
   "id": "76d6b3dc",
   "metadata": {},
   "outputs": [],
   "source": [
    "df_fi_doc_it = pd.DataFrame(data=fi_doc_it)"
   ]
  },
  {
   "cell_type": "code",
   "execution_count": 258,
   "id": "95db9682",
   "metadata": {},
   "outputs": [],
   "source": [
    "df_fi_doc_it.loc[ df_fi_doc_it['AUGDT'] == '00000000' ,'AUGDT'] = ''"
   ]
  },
  {
   "cell_type": "code",
   "execution_count": 259,
   "id": "5cc2530a",
   "metadata": {},
   "outputs": [],
   "source": [
    "df_fi_doc_it.loc[ df_fi_doc_it['AUGCP'] == '00000000' ,'AUGCP'] = ''"
   ]
  },
  {
   "cell_type": "code",
   "execution_count": 260,
   "id": "7275c8a2",
   "metadata": {},
   "outputs": [],
   "source": [
    "df_fi_doc = pd.merge(df_fi_doc_hd,df_fi_doc_it,on=['BUKRS','BELNR','GJAHR'])"
   ]
  },
  {
   "cell_type": "code",
   "execution_count": 261,
   "id": "d61a6904",
   "metadata": {},
   "outputs": [],
   "source": [
    "df_1 = pd.merge(df_po_ri,df_fi_doc,on='AWKEY')"
   ]
  },
  {
   "cell_type": "code",
   "execution_count": 262,
   "id": "d8a415ab",
   "metadata": {},
   "outputs": [
    {
     "data": {
      "text/html": [
       "<div>\n",
       "<style scoped>\n",
       "    .dataframe tbody tr th:only-of-type {\n",
       "        vertical-align: middle;\n",
       "    }\n",
       "\n",
       "    .dataframe tbody tr th {\n",
       "        vertical-align: top;\n",
       "    }\n",
       "\n",
       "    .dataframe thead th {\n",
       "        text-align: right;\n",
       "    }\n",
       "</style>\n",
       "<table border=\"1\" class=\"dataframe\">\n",
       "  <thead>\n",
       "    <tr style=\"text-align: right;\">\n",
       "      <th></th>\n",
       "      <th>EBELN</th>\n",
       "      <th>GJAHR_x</th>\n",
       "      <th>BELNR_x</th>\n",
       "      <th>BELNR_y</th>\n",
       "      <th>GJAHR_y</th>\n",
       "      <th>AUGDT</th>\n",
       "      <th>AUGCP</th>\n",
       "      <th>AUGBL</th>\n",
       "    </tr>\n",
       "  </thead>\n",
       "  <tbody>\n",
       "    <tr>\n",
       "      <th>0</th>\n",
       "      <td>4500019671</td>\n",
       "      <td>2025</td>\n",
       "      <td>5105609642</td>\n",
       "      <td>5100000000</td>\n",
       "      <td>2025</td>\n",
       "      <td></td>\n",
       "      <td></td>\n",
       "      <td></td>\n",
       "    </tr>\n",
       "    <tr>\n",
       "      <th>1</th>\n",
       "      <td>4500019671</td>\n",
       "      <td>2025</td>\n",
       "      <td>5105609643</td>\n",
       "      <td>5100000001</td>\n",
       "      <td>2025</td>\n",
       "      <td></td>\n",
       "      <td></td>\n",
       "      <td></td>\n",
       "    </tr>\n",
       "    <tr>\n",
       "      <th>2</th>\n",
       "      <td>4500019671</td>\n",
       "      <td>2025</td>\n",
       "      <td>5105609644</td>\n",
       "      <td>5100000002</td>\n",
       "      <td>2025</td>\n",
       "      <td>20250816</td>\n",
       "      <td>20250816</td>\n",
       "      <td>1500000000</td>\n",
       "    </tr>\n",
       "    <tr>\n",
       "      <th>3</th>\n",
       "      <td>4500019671</td>\n",
       "      <td>2025</td>\n",
       "      <td>5105609645</td>\n",
       "      <td>5100000003</td>\n",
       "      <td>2025</td>\n",
       "      <td></td>\n",
       "      <td></td>\n",
       "      <td></td>\n",
       "    </tr>\n",
       "    <tr>\n",
       "      <th>4</th>\n",
       "      <td>4500019671</td>\n",
       "      <td>2025</td>\n",
       "      <td>5105609643</td>\n",
       "      <td>5100000001</td>\n",
       "      <td>2025</td>\n",
       "      <td></td>\n",
       "      <td></td>\n",
       "      <td></td>\n",
       "    </tr>\n",
       "    <tr>\n",
       "      <th>5</th>\n",
       "      <td>3005000125</td>\n",
       "      <td>2003</td>\n",
       "      <td>5105607042</td>\n",
       "      <td>5100000509</td>\n",
       "      <td>2003</td>\n",
       "      <td></td>\n",
       "      <td></td>\n",
       "      <td></td>\n",
       "    </tr>\n",
       "    <tr>\n",
       "      <th>6</th>\n",
       "      <td>3005000125</td>\n",
       "      <td>2003</td>\n",
       "      <td>5105607042</td>\n",
       "      <td>5100000509</td>\n",
       "      <td>2003</td>\n",
       "      <td></td>\n",
       "      <td></td>\n",
       "      <td></td>\n",
       "    </tr>\n",
       "    <tr>\n",
       "      <th>7</th>\n",
       "      <td>3005000125</td>\n",
       "      <td>2003</td>\n",
       "      <td>5105607042</td>\n",
       "      <td>5100000509</td>\n",
       "      <td>2003</td>\n",
       "      <td></td>\n",
       "      <td></td>\n",
       "      <td></td>\n",
       "    </tr>\n",
       "    <tr>\n",
       "      <th>8</th>\n",
       "      <td>4500019559</td>\n",
       "      <td>2017</td>\n",
       "      <td>5105609633</td>\n",
       "      <td>5100000001</td>\n",
       "      <td>2017</td>\n",
       "      <td></td>\n",
       "      <td></td>\n",
       "      <td></td>\n",
       "    </tr>\n",
       "  </tbody>\n",
       "</table>\n",
       "</div>"
      ],
      "text/plain": [
       "        EBELN GJAHR_x     BELNR_x     BELNR_y GJAHR_y     AUGDT     AUGCP  \\\n",
       "0  4500019671    2025  5105609642  5100000000    2025                       \n",
       "1  4500019671    2025  5105609643  5100000001    2025                       \n",
       "2  4500019671    2025  5105609644  5100000002    2025  20250816  20250816   \n",
       "3  4500019671    2025  5105609645  5100000003    2025                       \n",
       "4  4500019671    2025  5105609643  5100000001    2025                       \n",
       "5  3005000125    2003  5105607042  5100000509    2003                       \n",
       "6  3005000125    2003  5105607042  5100000509    2003                       \n",
       "7  3005000125    2003  5105607042  5100000509    2003                       \n",
       "8  4500019559    2017  5105609633  5100000001    2017                       \n",
       "\n",
       "        AUGBL  \n",
       "0              \n",
       "1              \n",
       "2  1500000000  \n",
       "3              \n",
       "4              \n",
       "5              \n",
       "6              \n",
       "7              \n",
       "8              "
      ]
     },
     "execution_count": 262,
     "metadata": {},
     "output_type": "execute_result"
    }
   ],
   "source": [
    "df_1[['EBELN','GJAHR_x','BELNR_x','BELNR_y','GJAHR_y','AUGDT','AUGCP','AUGBL']]"
   ]
  }
 ],
 "metadata": {
  "kernelspec": {
   "display_name": ".venv",
   "language": "python",
   "name": "python3"
  },
  "language_info": {
   "codemirror_mode": {
    "name": "ipython",
    "version": 3
   },
   "file_extension": ".py",
   "mimetype": "text/x-python",
   "name": "python",
   "nbconvert_exporter": "python",
   "pygments_lexer": "ipython3",
   "version": "3.11.9"
  }
 },
 "nbformat": 4,
 "nbformat_minor": 5
}
