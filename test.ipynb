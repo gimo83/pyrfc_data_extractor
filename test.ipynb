{
 "cells": [
  {
   "cell_type": "code",
   "execution_count": 11,
   "id": "2a26fb8d",
   "metadata": {},
   "outputs": [],
   "source": [
    "import os"
   ]
  },
  {
   "cell_type": "code",
   "execution_count": 19,
   "id": "e8699bb7",
   "metadata": {},
   "outputs": [],
   "source": [
    "proj_dir = os.getcwd()"
   ]
  },
  {
   "cell_type": "code",
   "execution_count": 21,
   "id": "9df2a626",
   "metadata": {},
   "outputs": [],
   "source": [
    "os.environ['SAPNWRFC_HOME'] = proj_dir + '\\\\nwrfc750\\\\nwrfcsdk' "
   ]
  },
  {
   "cell_type": "code",
   "execution_count": 30,
   "id": "d0ae08c3",
   "metadata": {},
   "outputs": [],
   "source": [
    "os.environ['PATH'] = os.environ['PATH'] + ';' + proj_dir + '\\\\nwrfc750\\\\nwrfcsdk\\\\lib'"
   ]
  },
  {
   "cell_type": "code",
   "execution_count": 31,
   "id": "ce1e6ee4",
   "metadata": {},
   "outputs": [],
   "source": [
    "os.environ['PATH'] = os.environ['PATH'] + ';' + proj_dir + '\\\\nwrfc750\\\\nwrfcsdk\\\\bin'"
   ]
  },
  {
   "cell_type": "code",
   "execution_count": 32,
   "id": "22654d42",
   "metadata": {},
   "outputs": [
    {
     "name": "stdout",
     "output_type": "stream",
     "text": [
      "Requirement already satisfied: pyrfc-read in .\\.venv\\lib\\site-packages (1.0.2)\n",
      "Requirement already satisfied: pyrfc==3.3.1 in .\\.venv\\lib\\site-packages (from pyrfc-read) (3.3.1)\n",
      "Note: you may need to restart the kernel to use updated packages.\n"
     ]
    }
   ],
   "source": [
    "pip install pyrfc-read"
   ]
  },
  {
   "cell_type": "code",
   "execution_count": 34,
   "id": "94b2e3e1",
   "metadata": {},
   "outputs": [],
   "source": [
    "from pyrfc import Connection, ABAPApplicationError, ABAPRuntimeError, LogonError, CommunicationError"
   ]
  },
  {
   "cell_type": "code",
   "execution_count": null,
   "id": "d4e305e3",
   "metadata": {},
   "outputs": [],
   "source": [
    "ASHOST='sapxxxxx'\n",
    "CLIENT='001'\n",
    "SYSNR='00'\n",
    "USER='XXXXXXX'\n",
    "PASSWD='XXXXXXX'"
   ]
  },
  {
   "cell_type": "code",
   "execution_count": 35,
   "id": "82c1c425",
   "metadata": {},
   "outputs": [
    {
     "ename": "CommunicationError",
     "evalue": "1 (rc=1): key=RFC_COMMUNICATION_FAILURE, message=\nLOCATION    CPIC (TCP/IP) on local host with Unicode\nERROR       hostname 'sapxxxxx' unknown\nTIME        Wed Aug  6 15:39:43 2025\nRELEASE     754\nCOMPONENT   NI (network interface)\nVERSION     40\nRC          -2\nMODULE      D:/depot/bas/754_REL/src/base/ni/nixxhl.cpp\nLINE        198\nDETAIL      NiHLGetNodeAddr: hostname cached as unknown\nCOUNTER     3\n [MSG: class=, type=, number=, v1-4:=;;;]",
     "output_type": "error",
     "traceback": [
      "\u001b[31m---------------------------------------------------------------------------\u001b[39m",
      "\u001b[31mCommunicationError\u001b[39m                        Traceback (most recent call last)",
      "\u001b[36mCell\u001b[39m\u001b[36m \u001b[39m\u001b[32mIn[35]\u001b[39m\u001b[32m, line 1\u001b[39m\n\u001b[32m----> \u001b[39m\u001b[32m1\u001b[39m conn = \u001b[43mConnection\u001b[49m\u001b[43m(\u001b[49m\u001b[43mashost\u001b[49m\u001b[43m=\u001b[49m\u001b[43mASHOST\u001b[49m\u001b[43m,\u001b[49m\u001b[43m \u001b[49m\u001b[43msysnr\u001b[49m\u001b[43m=\u001b[49m\u001b[43mSYSNR\u001b[49m\u001b[43m,\u001b[49m\u001b[43m \u001b[49m\u001b[43mclient\u001b[49m\u001b[43m=\u001b[49m\u001b[43mCLIENT\u001b[49m\u001b[43m,\u001b[49m\u001b[43m \u001b[49m\u001b[43muser\u001b[49m\u001b[43m=\u001b[49m\u001b[43mUSER\u001b[49m\u001b[43m,\u001b[49m\u001b[43m \u001b[49m\u001b[43mpasswd\u001b[49m\u001b[43m=\u001b[49m\u001b[43mPASSWD\u001b[49m\u001b[43m)\u001b[49m\n",
      "\u001b[36mFile \u001b[39m\u001b[32msrc/pyrfc/_cyrfc.pyx:641\u001b[39m, in \u001b[36mpyrfc._cyrfc.Connection.__init__\u001b[39m\u001b[34m()\u001b[39m\n",
      "\u001b[36mFile \u001b[39m\u001b[32msrc/pyrfc/_cyrfc.pyx:709\u001b[39m, in \u001b[36mpyrfc._cyrfc.Connection._open\u001b[39m\u001b[34m()\u001b[39m\n",
      "\u001b[36mFile \u001b[39m\u001b[32msrc/pyrfc/_cyrfc.pyx:733\u001b[39m, in \u001b[36mpyrfc._cyrfc.Connection._error\u001b[39m\u001b[34m()\u001b[39m\n",
      "\u001b[31mCommunicationError\u001b[39m: 1 (rc=1): key=RFC_COMMUNICATION_FAILURE, message=\nLOCATION    CPIC (TCP/IP) on local host with Unicode\nERROR       hostname 'sapxxxxx' unknown\nTIME        Wed Aug  6 15:39:43 2025\nRELEASE     754\nCOMPONENT   NI (network interface)\nVERSION     40\nRC          -2\nMODULE      D:/depot/bas/754_REL/src/base/ni/nixxhl.cpp\nLINE        198\nDETAIL      NiHLGetNodeAddr: hostname cached as unknown\nCOUNTER     3\n [MSG: class=, type=, number=, v1-4:=;;;]"
     ]
    }
   ],
   "source": [
    "conn = Connection(ashost=ASHOST, sysnr=SYSNR, client=CLIENT, user=USER, passwd=PASSWD)"
   ]
  },
  {
   "cell_type": "code",
   "execution_count": null,
   "id": "b6060bcd",
   "metadata": {},
   "outputs": [],
   "source": []
  }
 ],
 "metadata": {
  "kernelspec": {
   "display_name": ".venv",
   "language": "python",
   "name": "python3"
  },
  "language_info": {
   "codemirror_mode": {
    "name": "ipython",
    "version": 3
   },
   "file_extension": ".py",
   "mimetype": "text/x-python",
   "name": "python",
   "nbconvert_exporter": "python",
   "pygments_lexer": "ipython3",
   "version": "3.13.5"
  }
 },
 "nbformat": 4,
 "nbformat_minor": 5
}
