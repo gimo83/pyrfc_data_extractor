{
 "cells": [
  {
   "cell_type": "code",
   "execution_count": 1,
   "id": "2a26fb8d",
   "metadata": {},
   "outputs": [],
   "source": [
    "import os\n",
    "import subprocess\n",
    "import sys"
   ]
  },
  {
   "cell_type": "markdown",
   "id": "cb060741",
   "metadata": {},
   "source": [
    "# Configure NetWeaver SDK library location"
   ]
  },
  {
   "cell_type": "code",
   "execution_count": 2,
   "id": "e8699bb7",
   "metadata": {},
   "outputs": [],
   "source": [
    "proj_dir = os.getcwd()"
   ]
  },
  {
   "cell_type": "code",
   "execution_count": 3,
   "id": "cf209366",
   "metadata": {},
   "outputs": [],
   "source": [
    "os.environ['SAPNWRFC_HOME'] = proj_dir + '\\\\nwrfcsdk' "
   ]
  },
  {
   "cell_type": "code",
   "execution_count": 4,
   "id": "9df2a626",
   "metadata": {},
   "outputs": [],
   "source": [
    "#os.environ['SAPNWRFC_HOME'] = proj_dir + '\\\\nwrfc750\\\\nwrfcsdk' "
   ]
  },
  {
   "cell_type": "code",
   "execution_count": 5,
   "id": "d0ae08c3",
   "metadata": {},
   "outputs": [],
   "source": [
    "#os.environ['PATH'] = os.environ['PATH'] + ';' + proj_dir + '\\\\nwrfc750\\\\nwrfcsdk\\\\lib'"
   ]
  },
  {
   "cell_type": "code",
   "execution_count": 6,
   "id": "ce1e6ee4",
   "metadata": {},
   "outputs": [],
   "source": [
    "#os.environ['PATH'] = os.environ['PATH'] + ';' + proj_dir + '\\\\nwrfc750\\\\nwrfcsdk\\\\bin'"
   ]
  },
  {
   "cell_type": "code",
   "execution_count": 7,
   "id": "22654d42",
   "metadata": {},
   "outputs": [],
   "source": [
    "#pip install pyrfc-read"
   ]
  },
  {
   "cell_type": "markdown",
   "id": "50ccf8e3",
   "metadata": {},
   "source": [
    "# 1. Locad configuration"
   ]
  },
  {
   "cell_type": "code",
   "execution_count": 8,
   "id": "b2e8ccdc",
   "metadata": {},
   "outputs": [],
   "source": [
    "from configparser import ConfigParser"
   ]
  },
  {
   "cell_type": "code",
   "execution_count": 9,
   "id": "de0835ed",
   "metadata": {},
   "outputs": [],
   "source": [
    "configur = ConfigParser()"
   ]
  },
  {
   "cell_type": "code",
   "execution_count": 10,
   "id": "a8dc3e22",
   "metadata": {},
   "outputs": [
    {
     "data": {
      "text/plain": [
       "['config.ini']"
      ]
     },
     "execution_count": 10,
     "metadata": {},
     "output_type": "execute_result"
    }
   ],
   "source": [
    "configur.read('config.ini')"
   ]
  },
  {
   "cell_type": "code",
   "execution_count": 11,
   "id": "e1fd2911",
   "metadata": {},
   "outputs": [],
   "source": [
    "ASHOST=configur.get('SAP','host')\n",
    "CLIENT=configur.get('SAP','client')\n",
    "SYSNR=configur.get('SAP','instance')\n",
    "USER=configur.get('SAP','username')\n",
    "PASSWD=configur.get('SAP','password')"
   ]
  },
  {
   "cell_type": "markdown",
   "id": "e0f6dae4",
   "metadata": {},
   "source": [
    "## Import NetWeaver RFC libriary in Python"
   ]
  },
  {
   "cell_type": "code",
   "execution_count": 14,
   "id": "4c851a97",
   "metadata": {},
   "outputs": [],
   "source": [
    "try:\n",
    "    from pyrfc import ABAPRuntimeError\n",
    "except ImportError:\n",
    "    # Install pyrfc using pip\n",
    "    subprocess.check_call([sys.executable, \"-m\", \"pip\", \"install\", \"pyrfc==3.3.1\"])\n",
    "    from pyrfc import ABAPRuntimeError"
   ]
  },
  {
   "cell_type": "code",
   "execution_count": null,
   "id": "94b2e3e1",
   "metadata": {},
   "outputs": [],
   "source": [
    "try:\n",
    "    from pyrfc_read import Connection\n",
    "except:\n",
    "    # Install pyrfc using pip\n",
    "    subprocess.check_call([sys.executable, \"-m\", \"pip\", \"install\", \"pyrfc-read\"])\n",
    "    from pyrfc_read import Connection\n"
   ]
  },
  {
   "cell_type": "markdown",
   "id": "c3d59add",
   "metadata": {},
   "source": [
    "## Open connection to SAP System"
   ]
  },
  {
   "cell_type": "code",
   "execution_count": null,
   "id": "773092e7",
   "metadata": {},
   "outputs": [],
   "source": [
    "conn = Connection(\n",
    "    ashost=ASHOST, \n",
    "    sysnr=SYSNR, \n",
    "    client=CLIENT, \n",
    "    user=USER, \n",
    "    passwd=PASSWD,\n",
    "    lang=\"EN\"\n",
    "    )"
   ]
  },
  {
   "cell_type": "markdown",
   "id": "24862cd9",
   "metadata": {},
   "source": [
    "## Call SAP RFC 'RFC_PING'"
   ]
  },
  {
   "cell_type": "code",
   "execution_count": null,
   "id": "6d498c5b",
   "metadata": {},
   "outputs": [],
   "source": [
    "try:\n",
    "    result = conn.ping()\n",
    "    print(result)\n",
    "except ABAPRuntimeError as error:\n",
    "    print(error.message)"
   ]
  },
  {
   "cell_type": "markdown",
   "id": "8c64f2ef",
   "metadata": {},
   "source": [
    "# Read PO Detail"
   ]
  },
  {
   "cell_type": "code",
   "execution_count": null,
   "id": "c9b7b8e1",
   "metadata": {},
   "outputs": [],
   "source": [
    "try:\n",
    "    kwargs = dict(\n",
    "            PURCHASEORDER='6510090283',\n",
    "            ITEMS='X',\n",
    "            ACCOUNT_ASSIGNMENT='X',\n",
    "            SCHEDULES='X',\n",
    "            HISTORY='X',\n",
    "            ITEM_TEXTS='X',\n",
    "            HEADER_TEXTS='X',\n",
    "            SERVICES='X',\n",
    "            CONFIRMATIONS='X',\n",
    "            SERVICE_TEXTS='X',\n",
    "            EXTENSIONS='X',\n",
    "        )\n",
    "    result = conn.call('BAPI_PO_GETDETAIL',kwargs)\n",
    "    print(result)\n",
    "except ABAPRuntimeError as error:\n",
    "    print(error.message)\n",
    "else:\n",
    "    print(\"un-known error\")"
   ]
  }
 ],
 "metadata": {
  "kernelspec": {
   "display_name": ".venv",
   "language": "python",
   "name": "python3"
  },
  "language_info": {
   "codemirror_mode": {
    "name": "ipython",
    "version": 3
   },
   "file_extension": ".py",
   "mimetype": "text/x-python",
   "name": "python",
   "nbconvert_exporter": "python",
   "pygments_lexer": "ipython3",
   "version": "3.11.9"
  }
 },
 "nbformat": 4,
 "nbformat_minor": 5
}
