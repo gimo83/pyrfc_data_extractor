{
 "cells": [
  {
   "cell_type": "code",
   "execution_count": 1,
   "id": "2a26fb8d",
   "metadata": {},
   "outputs": [],
   "source": [
    "import os"
   ]
  },
  {
   "cell_type": "code",
   "execution_count": 2,
   "id": "e8699bb7",
   "metadata": {},
   "outputs": [],
   "source": [
    "#proj_dir = os.getcwd()"
   ]
  },
  {
   "cell_type": "code",
   "execution_count": 3,
   "id": "9df2a626",
   "metadata": {},
   "outputs": [],
   "source": [
    "#os.environ['SAPNWRFC_HOME'] = proj_dir + '\\\\nwrfc750\\\\nwrfcsdk' "
   ]
  },
  {
   "cell_type": "code",
   "execution_count": 4,
   "id": "d0ae08c3",
   "metadata": {},
   "outputs": [],
   "source": [
    "#os.environ['PATH'] = os.environ['PATH'] + ';' + proj_dir + '\\\\nwrfc750\\\\nwrfcsdk\\\\lib'"
   ]
  },
  {
   "cell_type": "code",
   "execution_count": 5,
   "id": "ce1e6ee4",
   "metadata": {},
   "outputs": [],
   "source": [
    "#os.environ['PATH'] = os.environ['PATH'] + ';' + proj_dir + '\\\\nwrfc750\\\\nwrfcsdk\\\\bin'"
   ]
  },
  {
   "cell_type": "code",
   "execution_count": 6,
   "id": "22654d42",
   "metadata": {},
   "outputs": [],
   "source": [
    "#pip install pyrfc-read"
   ]
  },
  {
   "cell_type": "markdown",
   "id": "50ccf8e3",
   "metadata": {},
   "source": [
    "# 1. Locad configuration"
   ]
  },
  {
   "cell_type": "code",
   "execution_count": 7,
   "id": "b2e8ccdc",
   "metadata": {},
   "outputs": [],
   "source": [
    "from configparser import ConfigParser"
   ]
  },
  {
   "cell_type": "code",
   "execution_count": 8,
   "id": "de0835ed",
   "metadata": {},
   "outputs": [],
   "source": [
    "configur = ConfigParser()"
   ]
  },
  {
   "cell_type": "code",
   "execution_count": 9,
   "id": "a8dc3e22",
   "metadata": {},
   "outputs": [
    {
     "data": {
      "text/plain": [
       "['config.ini']"
      ]
     },
     "execution_count": 9,
     "metadata": {},
     "output_type": "execute_result"
    }
   ],
   "source": [
    "configur.read('config.ini')"
   ]
  },
  {
   "cell_type": "code",
   "execution_count": 10,
   "id": "e1fd2911",
   "metadata": {},
   "outputs": [],
   "source": [
    "ASHOST=configur.get('SAP','host')\n",
    "CLIENT=configur.get('SAP','client')\n",
    "SYSNR=configur.get('SAP','instance')\n",
    "USER=configur.get('SAP','username')\n",
    "PASSWD=configur.get('SAP','password')"
   ]
  },
  {
   "cell_type": "code",
   "execution_count": 11,
   "id": "4c851a97",
   "metadata": {},
   "outputs": [],
   "source": [
    "from pyrfc import ABAPRuntimeError"
   ]
  },
  {
   "cell_type": "code",
   "execution_count": 12,
   "id": "94b2e3e1",
   "metadata": {},
   "outputs": [],
   "source": [
    "from pyrfc_read import Connection"
   ]
  },
  {
   "cell_type": "code",
   "execution_count": 13,
   "id": "773092e7",
   "metadata": {},
   "outputs": [],
   "source": [
    "conn = Connection(\n",
    "    ashost=ASHOST, \n",
    "    sysnr=SYSNR, \n",
    "    client=CLIENT, \n",
    "    user=USER, \n",
    "    passwd=PASSWD,\n",
    "    lang=\"EN\"\n",
    "    )"
   ]
  },
  {
   "cell_type": "code",
   "execution_count": 14,
   "id": "6d498c5b",
   "metadata": {},
   "outputs": [
    {
     "name": "stdout",
     "output_type": "stream",
     "text": [
      "None\n"
     ]
    }
   ],
   "source": [
    "try:\n",
    "    result = conn.ping()\n",
    "    print(result)\n",
    "except ABAPRuntimeError as error:\n",
    "    print(error.message)"
   ]
  },
  {
   "cell_type": "markdown",
   "id": "8c64f2ef",
   "metadata": {},
   "source": [
    "# Read PO Detail"
   ]
  },
  {
   "cell_type": "code",
   "execution_count": 20,
   "id": "c9b7b8e1",
   "metadata": {},
   "outputs": [],
   "source": [
    "kwargs = dict(\n",
    "            PURCHASEORDER='6510090283',\n",
    "            ITEMS='X',\n",
    "            ACCOUNT_ASSIGNMENT='X',\n",
    "            SCHEDULES='X',\n",
    "            HISTORY='X',\n",
    "            ITEM_TEXTS='X',\n",
    "            HEADER_TEXTS='X',\n",
    "            SERVICES='X',\n",
    "            CONFIRMATIONS='X',\n",
    "            SERVICE_TEXTS='X',\n",
    "            EXTENSIONS='X',\n",
    "        )"
   ]
  },
  {
   "cell_type": "code",
   "execution_count": 21,
   "id": "6edb2a8d",
   "metadata": {},
   "outputs": [],
   "source": [
    "result = conn.call('BAPI_PO_GETDETAIL',kwargs)"
   ]
  },
  {
   "cell_type": "code",
   "execution_count": 22,
   "id": "3891e6f1",
   "metadata": {},
   "outputs": [
    {
     "data": {
      "text/plain": [
       "{'PO_ADDRESS': {'ADDRNUMBER': '',\n",
       "  'ADDRHANDLE': '',\n",
       "  'NATION': '',\n",
       "  'DATE': '',\n",
       "  'DATE_FROM': '',\n",
       "  'DATE_TO': '',\n",
       "  'TITLE': '',\n",
       "  'NAME1': '',\n",
       "  'NAME2': '',\n",
       "  'NAME3': '',\n",
       "  'NAME4': '',\n",
       "  'NAME_TXT': '',\n",
       "  'NAME_CO': '',\n",
       "  'CITY1': '',\n",
       "  'CITY2': '',\n",
       "  'CITY_CODE': '',\n",
       "  'CITYP_CODE': '',\n",
       "  'CHCKSTATUS': '',\n",
       "  'POST_CODE1': '',\n",
       "  'POST_CODE2': '',\n",
       "  'POST_CODE3': '',\n",
       "  'PO_BOX': '',\n",
       "  'PO_BOX_NUM': '',\n",
       "  'PO_BOX_LOC': '',\n",
       "  'CITY_CODE2': '',\n",
       "  'PO_BOX_REG': '',\n",
       "  'PO_BOX_CTY': '',\n",
       "  'POSTALAREA': '',\n",
       "  'TRANSPZONE': '',\n",
       "  'STREET': '',\n",
       "  'STREETCODE': '',\n",
       "  'STREETABBR': '',\n",
       "  'HOUSE_NUM1': '',\n",
       "  'HOUSE_NUM2': '',\n",
       "  'HOUSE_NUM3': '',\n",
       "  'STR_SUPPL1': '',\n",
       "  'STR_SUPPL2': '',\n",
       "  'LOCATION': '',\n",
       "  'BUILDING': '',\n",
       "  'FLOOR': '',\n",
       "  'ROOMNUMBER': '',\n",
       "  'COUNTRY': '',\n",
       "  'LANGU': '',\n",
       "  'REGION': '',\n",
       "  'SORT1': '',\n",
       "  'SORT2': '',\n",
       "  'SORT_PHN': '',\n",
       "  'ADDRORIGIN': '',\n",
       "  'EXTENSION1': '',\n",
       "  'EXTENSION2': '',\n",
       "  'TIME_ZONE': '',\n",
       "  'TAXJURCODE': '',\n",
       "  'ADDRESS_ID': '',\n",
       "  'REMARK': '',\n",
       "  'DEFLT_COMM': '',\n",
       "  'TEL_NUMBER': '',\n",
       "  'TEL_EXTENS': '',\n",
       "  'FAX_NUMBER': '',\n",
       "  'FAX_EXTENS': '',\n",
       "  'BUILD_LONG': ''},\n",
       " 'PO_HEADER': {'PO_NUMBER': '',\n",
       "  'CO_CODE': '',\n",
       "  'DOC_CAT': '',\n",
       "  'DOC_TYPE': '',\n",
       "  'CNTRL_IND': '',\n",
       "  'DELETE_IND': '',\n",
       "  'STATUS': '',\n",
       "  'CREATED_ON': '',\n",
       "  'CREATED_BY': '',\n",
       "  'ITEM_INTVL': '00000',\n",
       "  'LAST_ITEM': '00000',\n",
       "  'VENDOR': '',\n",
       "  'LANGUAGE': '',\n",
       "  'PMNTTRMS': '',\n",
       "  'DSCNT1_TO': Decimal('0'),\n",
       "  'DSCNT2_TO': Decimal('0'),\n",
       "  'DSCNT3_TO': Decimal('0'),\n",
       "  'CASH_DISC1': Decimal('0.000'),\n",
       "  'CASH_DISC2': Decimal('0.000'),\n",
       "  'PURCH_ORG': '',\n",
       "  'PUR_GROUP': '',\n",
       "  'CURRENCY': '',\n",
       "  'EXCH_RATE': Decimal('0.00000'),\n",
       "  'EX_RATE_FX': '',\n",
       "  'DOC_DATE': '',\n",
       "  'VPER_START': '',\n",
       "  'VPER_END': '',\n",
       "  'APPLIC_BY': '',\n",
       "  'QUOT_DEAD': '',\n",
       "  'BINDG_PER': '',\n",
       "  'WARRANTY': '',\n",
       "  'BIDINV_NO': '',\n",
       "  'QUOTATION': '',\n",
       "  'QUOT_DATE': '',\n",
       "  'REF_1': '',\n",
       "  'SALES_PERS': '',\n",
       "  'TELEPHONE': '',\n",
       "  'SUPPL_VEND': '',\n",
       "  'CUSTOMER': '',\n",
       "  'AGREEMENT': '',\n",
       "  'REJ_REASON': '',\n",
       "  'COMPL_DLV': '',\n",
       "  'GR_MESSAGE': '',\n",
       "  'SUPPL_PLNT': '',\n",
       "  'RCVG_VEND': '',\n",
       "  'INCOTERMS1': '',\n",
       "  'INCOTERMS2': '',\n",
       "  'TARGET_VAL': Decimal('0.0000'),\n",
       "  'COLL_NO': '',\n",
       "  'DOC_COND': '',\n",
       "  'PROCEDURE': '',\n",
       "  'UPDATE_GRP': '',\n",
       "  'DIFF_INV': '',\n",
       "  'EXPORT_NO': '',\n",
       "  'OUR_REF': '',\n",
       "  'LOGSYSTEM': '',\n",
       "  'SUBITEMINT': '00000',\n",
       "  'MAST_COND': '',\n",
       "  'REL_GROUP': '',\n",
       "  'REL_STRAT': '',\n",
       "  'REL_IND': '',\n",
       "  'REL_STATUS': '',\n",
       "  'SUBJ_TO_R': '',\n",
       "  'TAXR_CNTRY': '',\n",
       "  'SCHED_IND': '',\n",
       "  'VEND_NAME': '',\n",
       "  'CURRENCY_ISO': '',\n",
       "  'EXCH_RATE_CM': Decimal('0.00000'),\n",
       "  'HOLD': ''},\n",
       " 'EXTENSIONOUT': [],\n",
       " 'NFMETALLITMS': [],\n",
       " 'PO_HEADER_TEXTS': [],\n",
       " 'PO_ITEMS': [],\n",
       " 'PO_ITEM_ACCOUNT_ASSIGNMENT': [],\n",
       " 'PO_ITEM_CONFIRMATIONS': [],\n",
       " 'PO_ITEM_CONTRACT_LIMITS': [],\n",
       " 'PO_ITEM_HISTORY': [],\n",
       " 'PO_ITEM_HISTORY_TOTALS': [],\n",
       " 'PO_ITEM_LIMITS': [],\n",
       " 'PO_ITEM_SCHEDULES': [],\n",
       " 'PO_ITEM_SERVICES': [],\n",
       " 'PO_ITEM_SRV_ACCASS_VALUES': [],\n",
       " 'PO_ITEM_TEXTS': [],\n",
       " 'PO_SERVICES_TEXTS': [],\n",
       " 'RETURN': []}"
      ]
     },
     "execution_count": 22,
     "metadata": {},
     "output_type": "execute_result"
    }
   ],
   "source": [
    "result"
   ]
  }
 ],
 "metadata": {
  "kernelspec": {
   "display_name": ".venv",
   "language": "python",
   "name": "python3"
  },
  "language_info": {
   "codemirror_mode": {
    "name": "ipython",
    "version": 3
   },
   "file_extension": ".py",
   "mimetype": "text/x-python",
   "name": "python",
   "nbconvert_exporter": "python",
   "pygments_lexer": "ipython3",
   "version": "3.13.5"
  }
 },
 "nbformat": 4,
 "nbformat_minor": 5
}
